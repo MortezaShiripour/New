{
 "cells": [
  {
   "cell_type": "code",
   "execution_count": 16,
   "metadata": {},
   "outputs": [
    {
     "ename": "SyntaxError",
     "evalue": "invalid syntax (<ipython-input-16-8b9211283e7f>, line 2)",
     "traceback": [
      "\u001b[1;36m  File \u001b[1;32m\"<ipython-input-16-8b9211283e7f>\"\u001b[1;36m, line \u001b[1;32m2\u001b[0m\n\u001b[1;33m    mk.lkj.\u001b[0m\n\u001b[1;37m            ^\u001b[0m\n\u001b[1;31mSyntaxError\u001b[0m\u001b[1;31m:\u001b[0m invalid syntax\n"
     ],
     "output_type": "error"
    }
   ],
   "source": [
    "# Introduction\n",
    "It is the first effort to render some codes in notebook Jupyter. The first random code is shown below  and it aims to only show a random assignment of some widgets on a canvas. You can change the input data and immediately see the result. "
   ]
  },
  {
   "cell_type": "code",
   "execution_count": 12,
   "metadata": {
    "collapsed": false
   },
   "outputs": [
    {
     "data": {
      "image/png": "[encoded data removed]",
      "text/plain": [
       "<matplotlib.figure.Figure at 0x12dbc278>"
      ]
     },
     "metadata": {},
     "output_type": "display_data"
    }
   ],
   "source": [
    "import matplotlib.pyplot as plt\n",
    "import matplotlib.patches as mpatch\n",
    "from random import *\n",
    "\n",
    "CanvasSize_X = 20\n",
    "CanvasSize_Y = 15\n",
    "\n",
    "\n",
    "ButtomSize_X = 2\n",
    "ButtomSize_Y = 1\n",
    "\n",
    "\n",
    "TextSize_X = 3\n",
    "TextSize_Y = 5\n",
    "\n",
    "ImageSize_X = 2\n",
    "ImageSize_Y = 2\n",
    "\n",
    "Positions_X=sample(range(CanvasSize_X-max(ButtomSize_X,TextSize_X,ImageSize_X)), 3)\n",
    "Positions_Y=sample(range(CanvasSize_Y-max(ButtomSize_Y,TextSize_Y,ImageSize_Y)), 3)\n",
    "\n",
    "\n",
    "\n",
    "fig, ax = plt.subplots()\n",
    "rectangles = {'Text' : mpatch.Rectangle((Positions_X[0],Positions_Y[0]), TextSize_X, TextSize_Y,color='#EB70AA'),\n",
    "              'Buttom' : mpatch.Rectangle((Positions_X[1],Positions_Y[1]), ButtomSize_X, ButtomSize_Y,color= '#fffe7a'),\n",
    "              'Image': mpatch.Rectangle((Positions_X[2], Positions_Y[2]), ImageSize_X, ImageSize_Y,color='#0099FF')}\n",
    "\n",
    "for r in rectangles:\n",
    "    ax.add_artist(rectangles[r])\n",
    "    rx, ry = rectangles[r].get_xy()\n",
    "    cx = rx + rectangles[r].get_width()/2.0\n",
    "    cy = ry + rectangles[r].get_height()/2.0\n",
    "\n",
    "    ax.annotate(r, (cx, cy), color='black', weight='bold',\n",
    "                fontsize=6, ha='center', va='center')\n",
    "\n",
    "ax.set_xlim((0, CanvasSize_X))\n",
    "ax.set_ylim((0, CanvasSize_Y))\n",
    "ax.set_aspect('equal')\n",
    "plt.title('Morteza random layout')\n",
    "plt.show()"
   ]
  },
  {
   "cell_type": "code",
   "execution_count": null,
   "metadata": {},
   "outputs": [],
   "source": []
  }
 ],
 "metadata": {
  "kernelspec": {
   "display_name": "Python 2",
   "language": "python",
   "name": "python2"
  },
  "language_info": {
   "codemirror_mode": {
    "name": "ipython",
    "version": 2
   },
   "file_extension": ".py",
   "mimetype": "text/x-python",
   "name": "python",
   "nbconvert_exporter": "python",
   "pygments_lexer": "ipython2",
   "version": "2.7.6"
  }
 },
 "nbformat": 4,
 "nbformat_minor": 0
}
